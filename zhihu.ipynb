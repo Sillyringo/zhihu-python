{
 "cells": [
  {
   "cell_type": "code",
   "execution_count": 1,
   "metadata": {},
   "outputs": [],
   "source": [
    "from zhihu import *"
   ]
  },
  {
   "cell_type": "code",
   "execution_count": 2,
   "metadata": {},
   "outputs": [
    {
     "data": {
      "text/plain": [
       "'29'"
      ]
     },
     "execution_count": 2,
     "metadata": {},
     "output_type": "execute_result"
    }
   ],
   "source": [
    "r = requests.get('https://www.zhihu.com/people/jiu-cai-chao-ji-dan-38-76', headers = header)\n",
    "soup = BeautifulSoup(r.content, \"lxml\")\n",
    "re.compile('(\\d*) 次收藏').search(soup.text).group(1)"
   ]
  },
  {
   "cell_type": "code",
   "execution_count": 15,
   "metadata": {},
   "outputs": [
    {
     "data": {
      "text/plain": [
       "733"
      ]
     },
     "execution_count": 15,
     "metadata": {},
     "output_type": "execute_result"
    }
   ],
   "source": [
    "h = html2text.HTML2Text()\n",
    "h.\n",
    "\n",
    "open('test.md', 'w').write(html2text.html2text(soup.find('div', class_ = 'ContentItem AnswerItem').decode_contents()))"
   ]
  },
  {
   "cell_type": "code",
   "execution_count": 120,
   "metadata": {},
   "outputs": [
    {
     "data": {
      "text/plain": [
       "'13'"
      ]
     },
     "execution_count": 120,
     "metadata": {},
     "output_type": "execute_result"
    }
   ],
   "source": [
    "soup.find('div', class_ = 'Card FollowshipCard').find_all('strong')[1]['title']"
   ]
  },
  {
   "cell_type": "code",
   "execution_count": 30,
   "metadata": {},
   "outputs": [
    {
     "data": {
      "text/plain": [
       "'jiu-cai-chao-ji-dan-38-76'"
      ]
     },
     "execution_count": 30,
     "metadata": {},
     "output_type": "execute_result"
    }
   ],
   "source": [
    "matchobj = re.compile('www.zhihu.com/people/([^/]*)/?').search('https://www.zhihu.com/people/jiu-cai-chao-ji-dan-38-76/info/')\n",
    "matchobj.group(1)"
   ]
  },
  {
   "cell_type": "code",
   "execution_count": 7,
   "metadata": {},
   "outputs": [
    {
     "name": "stdout",
     "output_type": "stream",
     "text": [
      "CPU times: user 15 µs, sys: 1 µs, total: 16 µs\n",
      "Wall time: 20.3 µs\n",
      "CPU times: user 14 µs, sys: 1 µs, total: 15 µs\n",
      "Wall time: 20 µs\n"
     ]
    },
    {
     "data": {
      "text/plain": [
       "'Male'"
      ]
     },
     "execution_count": 7,
     "metadata": {},
     "output_type": "execute_result"
    }
   ],
   "source": [
    "# u = User('jiu-cai-chao-ji-dan-38-76')\n",
    "%time u.gender\n",
    "%time u.gender"
   ]
  },
  {
   "cell_type": "code",
   "execution_count": 114,
   "metadata": {},
   "outputs": [],
   "source": [
    "class c:\n",
    "    pass\n",
    "\n",
    "setattr(c(), 'a', 123)"
   ]
  }
 ],
 "metadata": {
  "interpreter": {
   "hash": "cb5eea4dcfee283daf766ec04cdcfebdc21d2721c538fa6489f76b9d3ba925b4"
  },
  "kernelspec": {
   "display_name": "Python 3.9.5 ('base')",
   "language": "python",
   "name": "python3"
  },
  "language_info": {
   "codemirror_mode": {
    "name": "ipython",
    "version": 3
   },
   "file_extension": ".py",
   "mimetype": "text/x-python",
   "name": "python",
   "nbconvert_exporter": "python",
   "pygments_lexer": "ipython3",
   "version": "3.9.5"
  },
  "orig_nbformat": 4
 },
 "nbformat": 4,
 "nbformat_minor": 2
}
