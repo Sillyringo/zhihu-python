{
 "cells": [
  {
   "cell_type": "code",
   "execution_count": 1,
   "metadata": {},
   "outputs": [],
   "source": [
    "from zhihu import *"
   ]
  },
  {
   "cell_type": "code",
   "execution_count": 2,
   "metadata": {},
   "outputs": [
    {
     "data": {
      "text/plain": [
       "[2224805114]"
      ]
     },
     "execution_count": 2,
     "metadata": {},
     "output_type": "execute_result"
    }
   ],
   "source": [
    "q = Question('498455492')\n",
    "list(q.answeriter())"
   ]
  },
  {
   "cell_type": "code",
   "execution_count": 13,
   "metadata": {},
   "outputs": [
    {
     "data": {
      "text/plain": [
       "False"
      ]
     },
     "execution_count": 13,
     "metadata": {},
     "output_type": "execute_result"
    }
   ],
   "source": [
    "r = requests.get('https://www.zhihu.com/api/v4/questions/546308604/feeds?&limit=5&offset=0&order=default&platform=desktop', headers = header)\n",
    "json.dump(json.loads(r.text), open('temp', 'w'), indent = 4)\n",
    "json.loads(r.text)['paging']['is_end']\n",
    "# soup = BeautifulSoup(r.content, \"lxml\")\n",
    "# data = json.loads(soup.find('script', id = 'js-initialData').text)['initialState']\n",
    "# data"
   ]
  },
  {
   "cell_type": "code",
   "execution_count": 15,
   "metadata": {},
   "outputs": [
    {
     "data": {
      "text/plain": [
       "733"
      ]
     },
     "execution_count": 15,
     "metadata": {},
     "output_type": "execute_result"
    }
   ],
   "source": [
    "h = html2text.HTML2Text()\n",
    "h.\n",
    "\n",
    "open('test.md', 'w').write(html2text.html2text(soup.find('div', class_ = 'ContentItem AnswerItem').decode_contents()))"
   ]
  },
  {
   "cell_type": "code",
   "execution_count": 120,
   "metadata": {},
   "outputs": [
    {
     "data": {
      "text/plain": [
       "'13'"
      ]
     },
     "execution_count": 120,
     "metadata": {},
     "output_type": "execute_result"
    }
   ],
   "source": [
    "soup.find('div', class_ = 'Card FollowshipCard').find_all('strong')[1]['title']"
   ]
  },
  {
   "cell_type": "code",
   "execution_count": 30,
   "metadata": {},
   "outputs": [
    {
     "data": {
      "text/plain": [
       "'jiu-cai-chao-ji-dan-38-76'"
      ]
     },
     "execution_count": 30,
     "metadata": {},
     "output_type": "execute_result"
    }
   ],
   "source": [
    "matchobj = re.compile('www.zhihu.com/people/([^/]*)/?').search('https://www.zhihu.com/people/jiu-cai-chao-ji-dan-38-76/info/')\n",
    "matchobj.group(1)"
   ]
  },
  {
   "cell_type": "code",
   "execution_count": 114,
   "metadata": {},
   "outputs": [],
   "source": [
    "class c:\n",
    "    pass\n",
    "\n",
    "setattr(c(), 'a', 123)"
   ]
  }
 ],
 "metadata": {
  "interpreter": {
   "hash": "cb5eea4dcfee283daf766ec04cdcfebdc21d2721c538fa6489f76b9d3ba925b4"
  },
  "kernelspec": {
   "display_name": "Python 3.9.5 ('base')",
   "language": "python",
   "name": "python3"
  },
  "language_info": {
   "codemirror_mode": {
    "name": "ipython",
    "version": 3
   },
   "file_extension": ".py",
   "mimetype": "text/x-python",
   "name": "python",
   "nbconvert_exporter": "python",
   "pygments_lexer": "ipython3",
   "version": "3.9.5"
  },
  "orig_nbformat": 4
 },
 "nbformat": 4,
 "nbformat_minor": 2
}
